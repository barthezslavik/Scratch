{
 "cells": [
  {
   "cell_type": "code",
   "execution_count": 1,
   "id": "opponent-nowhere",
   "metadata": {},
   "outputs": [],
   "source": [
    "import numpy as np"
   ]
  },
  {
   "cell_type": "code",
   "execution_count": 2,
   "id": "adverse-collectible",
   "metadata": {},
   "outputs": [],
   "source": [
    "def rosenbrock(X, a=1, b=100):\n",
    "    x, y = X\n",
    "    return (a - x)**2 + b * (y - x**2)**2\n",
    "\n",
    "def rosenbrock_grad(X, a=1, b=100):\n",
    "    x, y = X\n",
    "    return np.array([\n",
    "        2 * (x - a) - 4 * b * x * (y - x**2),\n",
    "        2 * b * (y - x**2)\n",
    "    ])\n",
    "\n",
    "def rosenbrock_hess(X, a=1, b=100):\n",
    "    x, y = X\n",
    "    return np.matrix([\n",
    "        [2 - 4 * b * (y - 3 * x**2), -4 * b * x],\n",
    "        [-4 * b * x, 2 * b]\n",
    "    ])"
   ]
  },
  {
   "cell_type": "code",
   "execution_count": 3,
   "id": "stock-combining",
   "metadata": {},
   "outputs": [],
   "source": [
    "def newton(J_grad, J_hess, x_init, epsilon=1e-10, max_iterations=1000):\n",
    "    x = x_init\n",
    "    for i in range(max_iterations):\n",
    "        x = x - np.linalg.solve(J_hess(x), J_grad(x))\n",
    "        if np.linalg.norm(J_grad(x)) < epsilon:\n",
    "            return x, i + 1\n",
    "    return x, max_iterations"
   ]
  },
  {
   "cell_type": "code",
   "execution_count": 4,
   "id": "tight-december",
   "metadata": {},
   "outputs": [],
   "source": [
    "def gradient_descent(J_grad, x_init, alpha=0.01, epsilon=1e-10, max_iterations=1000):\n",
    "    x = x_init\n",
    "    for i in range(max_iterations):\n",
    "        x = x - alpha * J_grad(x)\n",
    "        if np.linalg.norm(J_grad(x)) < epsilon:\n",
    "            return x, i + 1\n",
    "    return x, max_iterations"
   ]
  },
  {
   "cell_type": "code",
   "execution_count": 5,
   "id": "turned-projector",
   "metadata": {},
   "outputs": [
    {
     "name": "stdout",
     "output_type": "stream",
     "text": [
      "x* = [0.99440769 0.98882419]\n",
      "Rosenbrock(x*) = 3.132439308613923e-05\n",
      "Grad Rosenbrock(x*) = [-0.00225342 -0.00449072]\n",
      "Iterations = 5000\n"
     ]
    }
   ],
   "source": [
    "\n",
    "x_init = np.zeros(2)\n",
    "x_min, it = gradient_descent(rosenbrock_grad, x_init, alpha=0.002, max_iterations=5000)\n",
    "print('x* =', x_min)\n",
    "print('Rosenbrock(x*) =', rosenbrock(x_min))\n",
    "print('Grad Rosenbrock(x*) =', rosenbrock_grad(x_min))\n",
    "print('Iterations =', it)"
   ]
  },
  {
   "cell_type": "code",
   "execution_count": 7,
   "id": "complete-berry",
   "metadata": {},
   "outputs": [],
   "source": [
    "def gss(f, a, b, tol=1e-7):\n",
    "    phi = (np.sqrt(5) + 1) / 2\n",
    "    d = b - (b - a) / phi\n",
    "    c = a + (b - a) / phi\n",
    "\n",
    "    while abs(d - c) > tol:\n",
    "        if f(d) < f(c):\n",
    "            b = c\n",
    "        else:\n",
    "            a = d\n",
    "\n",
    "        d = b - (b - a) / phi\n",
    "        c = a + (b - a) / phi\n",
    "\n",
    "    return (a + b) / 2"
   ]
  },
  {
   "cell_type": "code",
   "execution_count": 8,
   "id": "intensive-armstrong",
   "metadata": {},
   "outputs": [],
   "source": [
    "def gradient_descent_optimal(J, J_grad, x_init, epsilon=1e-10, max_iterations=1000):\n",
    "    x = x_init\n",
    "    for i in range(max_iterations):\n",
    "        q = lambda alpha: J(x - alpha * J_grad(x))\n",
    "        alpha = gss(q, 0, 1)\n",
    "        x = x - alpha * J_grad(x)\n",
    "        if np.linalg.norm(J_grad(x)) < epsilon:\n",
    "            return x, i + 1\n",
    "    return x, max_iterations"
   ]
  },
  {
   "cell_type": "code",
   "execution_count": null,
   "id": "growing-paris",
   "metadata": {},
   "outputs": [],
   "source": []
  }
 ],
 "metadata": {
  "kernelspec": {
   "display_name": "Python 3",
   "language": "python",
   "name": "python3"
  },
  "language_info": {
   "codemirror_mode": {
    "name": "ipython",
    "version": 3
   },
   "file_extension": ".py",
   "mimetype": "text/x-python",
   "name": "python",
   "nbconvert_exporter": "python",
   "pygments_lexer": "ipython3",
   "version": "3.9.4"
  }
 },
 "nbformat": 4,
 "nbformat_minor": 5
}
